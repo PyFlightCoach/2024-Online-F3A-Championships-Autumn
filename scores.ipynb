{
 "cells": [
  {
   "cell_type": "code",
   "execution_count": 27,
   "metadata": {},
   "outputs": [
    {
     "data": {
      "text/html": [
       "<div>\n",
       "<style scoped>\n",
       "    .dataframe tbody tr th:only-of-type {\n",
       "        vertical-align: middle;\n",
       "    }\n",
       "\n",
       "    .dataframe tbody tr th {\n",
       "        vertical-align: top;\n",
       "    }\n",
       "\n",
       "    .dataframe thead th {\n",
       "        text-align: right;\n",
       "    }\n",
       "</style>\n",
       "<table border=\"1\" class=\"dataframe\">\n",
       "  <thead>\n",
       "    <tr style=\"text-align: right;\">\n",
       "      <th></th>\n",
       "      <th>rank</th>\n",
       "      <th>total</th>\n",
       "      <th>trgle</th>\n",
       "      <th>hSqL</th>\n",
       "      <th>sqL</th>\n",
       "      <th>fig9</th>\n",
       "      <th>rollC</th>\n",
       "      <th>stall</th>\n",
       "      <th>dImm</th>\n",
       "      <th>hB</th>\n",
       "      <th>loop</th>\n",
       "      <th>hSqL2</th>\n",
       "      <th>hClov</th>\n",
       "      <th>rEt</th>\n",
       "      <th>iSpin</th>\n",
       "      <th>tHat</th>\n",
       "      <th>Z</th>\n",
       "      <th>Com</th>\n",
       "      <th>figS</th>\n",
       "    </tr>\n",
       "  </thead>\n",
       "  <tbody>\n",
       "    <tr>\n",
       "      <th>Halo_UK</th>\n",
       "      <td>1</td>\n",
       "      <td>460.04</td>\n",
       "      <td>6.96</td>\n",
       "      <td>9.46</td>\n",
       "      <td>5.44</td>\n",
       "      <td>6.76</td>\n",
       "      <td>8.07</td>\n",
       "      <td>8.89</td>\n",
       "      <td>7.74</td>\n",
       "      <td>7.66</td>\n",
       "      <td>7.20</td>\n",
       "      <td>8.51</td>\n",
       "      <td>7.25</td>\n",
       "      <td>8.15</td>\n",
       "      <td>8.15</td>\n",
       "      <td>8.03</td>\n",
       "      <td>8.74</td>\n",
       "      <td>6.82</td>\n",
       "      <td>6.81</td>\n",
       "    </tr>\n",
       "    <tr>\n",
       "      <th>Mach44_UK</th>\n",
       "      <td>2</td>\n",
       "      <td>392.56</td>\n",
       "      <td>4.13</td>\n",
       "      <td>9.00</td>\n",
       "      <td>5.11</td>\n",
       "      <td>5.55</td>\n",
       "      <td>8.43</td>\n",
       "      <td>8.73</td>\n",
       "      <td>6.52</td>\n",
       "      <td>4.93</td>\n",
       "      <td>6.09</td>\n",
       "      <td>8.58</td>\n",
       "      <td>5.01</td>\n",
       "      <td>6.86</td>\n",
       "      <td>7.84</td>\n",
       "      <td>7.98</td>\n",
       "      <td>7.02</td>\n",
       "      <td>5.78</td>\n",
       "      <td>5.23</td>\n",
       "    </tr>\n",
       "    <tr>\n",
       "      <th>Ddo_JPN</th>\n",
       "      <td>3</td>\n",
       "      <td>380.89</td>\n",
       "      <td>5.74</td>\n",
       "      <td>8.75</td>\n",
       "      <td>5.78</td>\n",
       "      <td>8.64</td>\n",
       "      <td>8.36</td>\n",
       "      <td>8.80</td>\n",
       "      <td>5.57</td>\n",
       "      <td>7.43</td>\n",
       "      <td>1.36</td>\n",
       "      <td>8.58</td>\n",
       "      <td>2.98</td>\n",
       "      <td>7.16</td>\n",
       "      <td>8.39</td>\n",
       "      <td>8.18</td>\n",
       "      <td>6.61</td>\n",
       "      <td>6.63</td>\n",
       "      <td>4.69</td>\n",
       "    </tr>\n",
       "    <tr>\n",
       "      <th>Jun_JPN</th>\n",
       "      <td>4</td>\n",
       "      <td>379.19</td>\n",
       "      <td>6.09</td>\n",
       "      <td>8.85</td>\n",
       "      <td>5.51</td>\n",
       "      <td>7.88</td>\n",
       "      <td>8.21</td>\n",
       "      <td>7.36</td>\n",
       "      <td>7.33</td>\n",
       "      <td>6.56</td>\n",
       "      <td>2.07</td>\n",
       "      <td>7.57</td>\n",
       "      <td>3.87</td>\n",
       "      <td>7.18</td>\n",
       "      <td>7.83</td>\n",
       "      <td>7.52</td>\n",
       "      <td>8.06</td>\n",
       "      <td>6.85</td>\n",
       "      <td>3.15</td>\n",
       "    </tr>\n",
       "    <tr>\n",
       "      <th>Wang_TWN</th>\n",
       "      <td>5</td>\n",
       "      <td>326.94</td>\n",
       "      <td>3.84</td>\n",
       "      <td>7.93</td>\n",
       "      <td>2.56</td>\n",
       "      <td>7.51</td>\n",
       "      <td>7.87</td>\n",
       "      <td>6.18</td>\n",
       "      <td>1.89</td>\n",
       "      <td>6.40</td>\n",
       "      <td>4.37</td>\n",
       "      <td>8.00</td>\n",
       "      <td>3.21</td>\n",
       "      <td>7.04</td>\n",
       "      <td>3.59</td>\n",
       "      <td>2.85</td>\n",
       "      <td>8.04</td>\n",
       "      <td>6.86</td>\n",
       "      <td>6.66</td>\n",
       "    </tr>\n",
       "    <tr>\n",
       "      <th>Joy_TWN</th>\n",
       "      <td>6</td>\n",
       "      <td>310.98</td>\n",
       "      <td>0.00</td>\n",
       "      <td>8.55</td>\n",
       "      <td>4.52</td>\n",
       "      <td>5.46</td>\n",
       "      <td>7.06</td>\n",
       "      <td>7.08</td>\n",
       "      <td>5.18</td>\n",
       "      <td>5.86</td>\n",
       "      <td>1.99</td>\n",
       "      <td>6.93</td>\n",
       "      <td>5.80</td>\n",
       "      <td>6.43</td>\n",
       "      <td>6.17</td>\n",
       "      <td>6.01</td>\n",
       "      <td>5.28</td>\n",
       "      <td>6.05</td>\n",
       "      <td>2.56</td>\n",
       "    </tr>\n",
       "    <tr>\n",
       "      <th>Kameo_JPN</th>\n",
       "      <td>7</td>\n",
       "      <td>289.83</td>\n",
       "      <td>4.68</td>\n",
       "      <td>9.12</td>\n",
       "      <td>2.79</td>\n",
       "      <td>8.23</td>\n",
       "      <td>7.97</td>\n",
       "      <td>5.69</td>\n",
       "      <td>1.36</td>\n",
       "      <td>6.14</td>\n",
       "      <td>1.73</td>\n",
       "      <td>6.46</td>\n",
       "      <td>1.91</td>\n",
       "      <td>3.23</td>\n",
       "      <td>5.25</td>\n",
       "      <td>6.71</td>\n",
       "      <td>5.11</td>\n",
       "      <td>5.43</td>\n",
       "      <td>5.89</td>\n",
       "    </tr>\n",
       "  </tbody>\n",
       "</table>\n",
       "</div>"
      ],
      "text/plain": [
       "           rank  total  trgle  hSqL  sqL  fig9  rollC  stall  dImm   hB  loop  \\\n",
       "Halo_UK       1 460.04   6.96  9.46 5.44  6.76   8.07   8.89  7.74 7.66  7.20   \n",
       "Mach44_UK     2 392.56   4.13  9.00 5.11  5.55   8.43   8.73  6.52 4.93  6.09   \n",
       "Ddo_JPN       3 380.89   5.74  8.75 5.78  8.64   8.36   8.80  5.57 7.43  1.36   \n",
       "Jun_JPN       4 379.19   6.09  8.85 5.51  7.88   8.21   7.36  7.33 6.56  2.07   \n",
       "Wang_TWN      5 326.94   3.84  7.93 2.56  7.51   7.87   6.18  1.89 6.40  4.37   \n",
       "Joy_TWN       6 310.98   0.00  8.55 4.52  5.46   7.06   7.08  5.18 5.86  1.99   \n",
       "Kameo_JPN     7 289.83   4.68  9.12 2.79  8.23   7.97   5.69  1.36 6.14  1.73   \n",
       "\n",
       "           hSqL2  hClov  rEt  iSpin  tHat    Z  Com  figS  \n",
       "Halo_UK     8.51   7.25 8.15   8.15  8.03 8.74 6.82  6.81  \n",
       "Mach44_UK   8.58   5.01 6.86   7.84  7.98 7.02 5.78  5.23  \n",
       "Ddo_JPN     8.58   2.98 7.16   8.39  8.18 6.61 6.63  4.69  \n",
       "Jun_JPN     7.57   3.87 7.18   7.83  7.52 8.06 6.85  3.15  \n",
       "Wang_TWN    8.00   3.21 7.04   3.59  2.85 8.04 6.86  6.66  \n",
       "Joy_TWN     6.93   5.80 6.43   6.17  6.01 5.28 6.05  2.56  \n",
       "Kameo_JPN   6.46   1.91 3.23   5.25  6.71 5.11 5.43  5.89  "
      ]
     },
     "execution_count": 27,
     "metadata": {},
     "output_type": "execute_result"
    }
   ],
   "source": [
    "from json import load\n",
    "from pathlib import Path\n",
    "from flightanalysis import ScheduleInfo\n",
    "import numpy as np\n",
    "import pandas as pd\n",
    "\n",
    "mandetails = ScheduleInfo('f3a', 'p25').manoeuvre_details()\n",
    "\n",
    "results = dict()\n",
    "for path in Path('./output/').glob('*.json'):\n",
    "    data = load(path.open())\n",
    "\n",
    "    mscores = {man['name']: list(man['history'].values())[-1]['results'][4]['score']['total'] for man in data['mans']}\n",
    "    total = sum([ms*md.k for ms, md in zip(mscores.values(), mandetails)])\n",
    "    results[path.stem] = dict(\n",
    "        lat=data['origin']['lat'],\n",
    "        lng=data['origin']['lng'],\n",
    "        alt=data['origin']['alt'],\n",
    "        total = total,\n",
    "        **mscores\n",
    "    )\n",
    "\n",
    "df = pd.DataFrame(results).T.sort_values('total', ascending=False)\n",
    "\n",
    "df.insert(3, 'rank', np.arange(len(df)) + 1)\n",
    "pd.options.display.float_format = '{:,.2f}'.format\n",
    "df.iloc[:,3:]"
   ]
  },
  {
   "cell_type": "code",
   "execution_count": 28,
   "metadata": {},
   "outputs": [
    {
     "data": {
      "application/vnd.plotly.v1+json": {
       "config": {
        "plotlyServerURL": "https://plot.ly"
       },
       "data": [
        {
         "geo": "geo",
         "hovertemplate": "text=%{text}<br>lat=%{lat}<br>lon=%{lon}<br>color=%{marker.color}<extra></extra>",
         "lat": [
          50.3526111,
          53.353921,
          36.231593,
          34.7998624,
          22.9952298,
          24.2646444,
          36.2316294
         ],
         "legendgroup": "",
         "lon": [
          3.9984353,
          -1.197823,
          139.0938285,
          137.8285769,
          120.1475781,
          120.8164501,
          139.0937658
         ],
         "marker": {
          "color": [
           460.04426653281826,
           392.555483290186,
           380.8914014683075,
           379.18847420282754,
           326.9408590259169,
           310.981946216128,
           289.8259771739297
          ],
          "coloraxis": "coloraxis",
          "symbol": "circle"
         },
         "mode": "markers+text",
         "name": "",
         "showlegend": false,
         "text": [
          "Halo_UK",
          "Mach44_UK",
          "Ddo_JPN",
          "Jun_JPN",
          "Wang_TWN",
          "Joy_TWN",
          "Kameo_JPN"
         ],
         "type": "scattergeo"
        }
       ],
       "layout": {
        "coloraxis": {
         "colorbar": {
          "title": {
           "text": "color"
          }
         },
         "colorscale": [
          [
           0,
           "#0d0887"
          ],
          [
           0.1111111111111111,
           "#46039f"
          ],
          [
           0.2222222222222222,
           "#7201a8"
          ],
          [
           0.3333333333333333,
           "#9c179e"
          ],
          [
           0.4444444444444444,
           "#bd3786"
          ],
          [
           0.5555555555555556,
           "#d8576b"
          ],
          [
           0.6666666666666666,
           "#ed7953"
          ],
          [
           0.7777777777777778,
           "#fb9f3a"
          ],
          [
           0.8888888888888888,
           "#fdca26"
          ],
          [
           1,
           "#f0f921"
          ]
         ]
        },
        "geo": {
         "center": {},
         "domain": {
          "x": [
           0,
           1
          ],
          "y": [
           0,
           1
          ]
         },
         "projection": {
          "type": "natural earth"
         }
        },
        "legend": {
         "tracegroupgap": 0
        },
        "margin": {
         "t": 60
        },
        "template": {
         "data": {
          "bar": [
           {
            "error_x": {
             "color": "#2a3f5f"
            },
            "error_y": {
             "color": "#2a3f5f"
            },
            "marker": {
             "line": {
              "color": "#E5ECF6",
              "width": 0.5
             },
             "pattern": {
              "fillmode": "overlay",
              "size": 10,
              "solidity": 0.2
             }
            },
            "type": "bar"
           }
          ],
          "barpolar": [
           {
            "marker": {
             "line": {
              "color": "#E5ECF6",
              "width": 0.5
             },
             "pattern": {
              "fillmode": "overlay",
              "size": 10,
              "solidity": 0.2
             }
            },
            "type": "barpolar"
           }
          ],
          "carpet": [
           {
            "aaxis": {
             "endlinecolor": "#2a3f5f",
             "gridcolor": "white",
             "linecolor": "white",
             "minorgridcolor": "white",
             "startlinecolor": "#2a3f5f"
            },
            "baxis": {
             "endlinecolor": "#2a3f5f",
             "gridcolor": "white",
             "linecolor": "white",
             "minorgridcolor": "white",
             "startlinecolor": "#2a3f5f"
            },
            "type": "carpet"
           }
          ],
          "choropleth": [
           {
            "colorbar": {
             "outlinewidth": 0,
             "ticks": ""
            },
            "type": "choropleth"
           }
          ],
          "contour": [
           {
            "colorbar": {
             "outlinewidth": 0,
             "ticks": ""
            },
            "colorscale": [
             [
              0,
              "#0d0887"
             ],
             [
              0.1111111111111111,
              "#46039f"
             ],
             [
              0.2222222222222222,
              "#7201a8"
             ],
             [
              0.3333333333333333,
              "#9c179e"
             ],
             [
              0.4444444444444444,
              "#bd3786"
             ],
             [
              0.5555555555555556,
              "#d8576b"
             ],
             [
              0.6666666666666666,
              "#ed7953"
             ],
             [
              0.7777777777777778,
              "#fb9f3a"
             ],
             [
              0.8888888888888888,
              "#fdca26"
             ],
             [
              1,
              "#f0f921"
             ]
            ],
            "type": "contour"
           }
          ],
          "contourcarpet": [
           {
            "colorbar": {
             "outlinewidth": 0,
             "ticks": ""
            },
            "type": "contourcarpet"
           }
          ],
          "heatmap": [
           {
            "colorbar": {
             "outlinewidth": 0,
             "ticks": ""
            },
            "colorscale": [
             [
              0,
              "#0d0887"
             ],
             [
              0.1111111111111111,
              "#46039f"
             ],
             [
              0.2222222222222222,
              "#7201a8"
             ],
             [
              0.3333333333333333,
              "#9c179e"
             ],
             [
              0.4444444444444444,
              "#bd3786"
             ],
             [
              0.5555555555555556,
              "#d8576b"
             ],
             [
              0.6666666666666666,
              "#ed7953"
             ],
             [
              0.7777777777777778,
              "#fb9f3a"
             ],
             [
              0.8888888888888888,
              "#fdca26"
             ],
             [
              1,
              "#f0f921"
             ]
            ],
            "type": "heatmap"
           }
          ],
          "heatmapgl": [
           {
            "colorbar": {
             "outlinewidth": 0,
             "ticks": ""
            },
            "colorscale": [
             [
              0,
              "#0d0887"
             ],
             [
              0.1111111111111111,
              "#46039f"
             ],
             [
              0.2222222222222222,
              "#7201a8"
             ],
             [
              0.3333333333333333,
              "#9c179e"
             ],
             [
              0.4444444444444444,
              "#bd3786"
             ],
             [
              0.5555555555555556,
              "#d8576b"
             ],
             [
              0.6666666666666666,
              "#ed7953"
             ],
             [
              0.7777777777777778,
              "#fb9f3a"
             ],
             [
              0.8888888888888888,
              "#fdca26"
             ],
             [
              1,
              "#f0f921"
             ]
            ],
            "type": "heatmapgl"
           }
          ],
          "histogram": [
           {
            "marker": {
             "pattern": {
              "fillmode": "overlay",
              "size": 10,
              "solidity": 0.2
             }
            },
            "type": "histogram"
           }
          ],
          "histogram2d": [
           {
            "colorbar": {
             "outlinewidth": 0,
             "ticks": ""
            },
            "colorscale": [
             [
              0,
              "#0d0887"
             ],
             [
              0.1111111111111111,
              "#46039f"
             ],
             [
              0.2222222222222222,
              "#7201a8"
             ],
             [
              0.3333333333333333,
              "#9c179e"
             ],
             [
              0.4444444444444444,
              "#bd3786"
             ],
             [
              0.5555555555555556,
              "#d8576b"
             ],
             [
              0.6666666666666666,
              "#ed7953"
             ],
             [
              0.7777777777777778,
              "#fb9f3a"
             ],
             [
              0.8888888888888888,
              "#fdca26"
             ],
             [
              1,
              "#f0f921"
             ]
            ],
            "type": "histogram2d"
           }
          ],
          "histogram2dcontour": [
           {
            "colorbar": {
             "outlinewidth": 0,
             "ticks": ""
            },
            "colorscale": [
             [
              0,
              "#0d0887"
             ],
             [
              0.1111111111111111,
              "#46039f"
             ],
             [
              0.2222222222222222,
              "#7201a8"
             ],
             [
              0.3333333333333333,
              "#9c179e"
             ],
             [
              0.4444444444444444,
              "#bd3786"
             ],
             [
              0.5555555555555556,
              "#d8576b"
             ],
             [
              0.6666666666666666,
              "#ed7953"
             ],
             [
              0.7777777777777778,
              "#fb9f3a"
             ],
             [
              0.8888888888888888,
              "#fdca26"
             ],
             [
              1,
              "#f0f921"
             ]
            ],
            "type": "histogram2dcontour"
           }
          ],
          "mesh3d": [
           {
            "colorbar": {
             "outlinewidth": 0,
             "ticks": ""
            },
            "type": "mesh3d"
           }
          ],
          "parcoords": [
           {
            "line": {
             "colorbar": {
              "outlinewidth": 0,
              "ticks": ""
             }
            },
            "type": "parcoords"
           }
          ],
          "pie": [
           {
            "automargin": true,
            "type": "pie"
           }
          ],
          "scatter": [
           {
            "fillpattern": {
             "fillmode": "overlay",
             "size": 10,
             "solidity": 0.2
            },
            "type": "scatter"
           }
          ],
          "scatter3d": [
           {
            "line": {
             "colorbar": {
              "outlinewidth": 0,
              "ticks": ""
             }
            },
            "marker": {
             "colorbar": {
              "outlinewidth": 0,
              "ticks": ""
             }
            },
            "type": "scatter3d"
           }
          ],
          "scattercarpet": [
           {
            "marker": {
             "colorbar": {
              "outlinewidth": 0,
              "ticks": ""
             }
            },
            "type": "scattercarpet"
           }
          ],
          "scattergeo": [
           {
            "marker": {
             "colorbar": {
              "outlinewidth": 0,
              "ticks": ""
             }
            },
            "type": "scattergeo"
           }
          ],
          "scattergl": [
           {
            "marker": {
             "colorbar": {
              "outlinewidth": 0,
              "ticks": ""
             }
            },
            "type": "scattergl"
           }
          ],
          "scattermapbox": [
           {
            "marker": {
             "colorbar": {
              "outlinewidth": 0,
              "ticks": ""
             }
            },
            "type": "scattermapbox"
           }
          ],
          "scatterpolar": [
           {
            "marker": {
             "colorbar": {
              "outlinewidth": 0,
              "ticks": ""
             }
            },
            "type": "scatterpolar"
           }
          ],
          "scatterpolargl": [
           {
            "marker": {
             "colorbar": {
              "outlinewidth": 0,
              "ticks": ""
             }
            },
            "type": "scatterpolargl"
           }
          ],
          "scatterternary": [
           {
            "marker": {
             "colorbar": {
              "outlinewidth": 0,
              "ticks": ""
             }
            },
            "type": "scatterternary"
           }
          ],
          "surface": [
           {
            "colorbar": {
             "outlinewidth": 0,
             "ticks": ""
            },
            "colorscale": [
             [
              0,
              "#0d0887"
             ],
             [
              0.1111111111111111,
              "#46039f"
             ],
             [
              0.2222222222222222,
              "#7201a8"
             ],
             [
              0.3333333333333333,
              "#9c179e"
             ],
             [
              0.4444444444444444,
              "#bd3786"
             ],
             [
              0.5555555555555556,
              "#d8576b"
             ],
             [
              0.6666666666666666,
              "#ed7953"
             ],
             [
              0.7777777777777778,
              "#fb9f3a"
             ],
             [
              0.8888888888888888,
              "#fdca26"
             ],
             [
              1,
              "#f0f921"
             ]
            ],
            "type": "surface"
           }
          ],
          "table": [
           {
            "cells": {
             "fill": {
              "color": "#EBF0F8"
             },
             "line": {
              "color": "white"
             }
            },
            "header": {
             "fill": {
              "color": "#C8D4E3"
             },
             "line": {
              "color": "white"
             }
            },
            "type": "table"
           }
          ]
         },
         "layout": {
          "annotationdefaults": {
           "arrowcolor": "#2a3f5f",
           "arrowhead": 0,
           "arrowwidth": 1
          },
          "autotypenumbers": "strict",
          "coloraxis": {
           "colorbar": {
            "outlinewidth": 0,
            "ticks": ""
           }
          },
          "colorscale": {
           "diverging": [
            [
             0,
             "#8e0152"
            ],
            [
             0.1,
             "#c51b7d"
            ],
            [
             0.2,
             "#de77ae"
            ],
            [
             0.3,
             "#f1b6da"
            ],
            [
             0.4,
             "#fde0ef"
            ],
            [
             0.5,
             "#f7f7f7"
            ],
            [
             0.6,
             "#e6f5d0"
            ],
            [
             0.7,
             "#b8e186"
            ],
            [
             0.8,
             "#7fbc41"
            ],
            [
             0.9,
             "#4d9221"
            ],
            [
             1,
             "#276419"
            ]
           ],
           "sequential": [
            [
             0,
             "#0d0887"
            ],
            [
             0.1111111111111111,
             "#46039f"
            ],
            [
             0.2222222222222222,
             "#7201a8"
            ],
            [
             0.3333333333333333,
             "#9c179e"
            ],
            [
             0.4444444444444444,
             "#bd3786"
            ],
            [
             0.5555555555555556,
             "#d8576b"
            ],
            [
             0.6666666666666666,
             "#ed7953"
            ],
            [
             0.7777777777777778,
             "#fb9f3a"
            ],
            [
             0.8888888888888888,
             "#fdca26"
            ],
            [
             1,
             "#f0f921"
            ]
           ],
           "sequentialminus": [
            [
             0,
             "#0d0887"
            ],
            [
             0.1111111111111111,
             "#46039f"
            ],
            [
             0.2222222222222222,
             "#7201a8"
            ],
            [
             0.3333333333333333,
             "#9c179e"
            ],
            [
             0.4444444444444444,
             "#bd3786"
            ],
            [
             0.5555555555555556,
             "#d8576b"
            ],
            [
             0.6666666666666666,
             "#ed7953"
            ],
            [
             0.7777777777777778,
             "#fb9f3a"
            ],
            [
             0.8888888888888888,
             "#fdca26"
            ],
            [
             1,
             "#f0f921"
            ]
           ]
          },
          "colorway": [
           "#636efa",
           "#EF553B",
           "#00cc96",
           "#ab63fa",
           "#FFA15A",
           "#19d3f3",
           "#FF6692",
           "#B6E880",
           "#FF97FF",
           "#FECB52"
          ],
          "font": {
           "color": "#2a3f5f"
          },
          "geo": {
           "bgcolor": "white",
           "lakecolor": "white",
           "landcolor": "#E5ECF6",
           "showlakes": true,
           "showland": true,
           "subunitcolor": "white"
          },
          "hoverlabel": {
           "align": "left"
          },
          "hovermode": "closest",
          "mapbox": {
           "style": "light"
          },
          "paper_bgcolor": "white",
          "plot_bgcolor": "#E5ECF6",
          "polar": {
           "angularaxis": {
            "gridcolor": "white",
            "linecolor": "white",
            "ticks": ""
           },
           "bgcolor": "#E5ECF6",
           "radialaxis": {
            "gridcolor": "white",
            "linecolor": "white",
            "ticks": ""
           }
          },
          "scene": {
           "xaxis": {
            "backgroundcolor": "#E5ECF6",
            "gridcolor": "white",
            "gridwidth": 2,
            "linecolor": "white",
            "showbackground": true,
            "ticks": "",
            "zerolinecolor": "white"
           },
           "yaxis": {
            "backgroundcolor": "#E5ECF6",
            "gridcolor": "white",
            "gridwidth": 2,
            "linecolor": "white",
            "showbackground": true,
            "ticks": "",
            "zerolinecolor": "white"
           },
           "zaxis": {
            "backgroundcolor": "#E5ECF6",
            "gridcolor": "white",
            "gridwidth": 2,
            "linecolor": "white",
            "showbackground": true,
            "ticks": "",
            "zerolinecolor": "white"
           }
          },
          "shapedefaults": {
           "line": {
            "color": "#2a3f5f"
           }
          },
          "ternary": {
           "aaxis": {
            "gridcolor": "white",
            "linecolor": "white",
            "ticks": ""
           },
           "baxis": {
            "gridcolor": "white",
            "linecolor": "white",
            "ticks": ""
           },
           "bgcolor": "#E5ECF6",
           "caxis": {
            "gridcolor": "white",
            "linecolor": "white",
            "ticks": ""
           }
          },
          "title": {
           "x": 0.05
          },
          "xaxis": {
           "automargin": true,
           "gridcolor": "white",
           "linecolor": "white",
           "ticks": "",
           "title": {
            "standoff": 15
           },
           "zerolinecolor": "white",
           "zerolinewidth": 2
          },
          "yaxis": {
           "automargin": true,
           "gridcolor": "white",
           "linecolor": "white",
           "ticks": "",
           "title": {
            "standoff": 15
           },
           "zerolinecolor": "white",
           "zerolinewidth": 2
          }
         }
        }
       }
      }
     },
     "metadata": {},
     "output_type": "display_data"
    }
   ],
   "source": [
    "import plotly.express as px\n",
    "\n",
    "px.scatter_geo(lat=df.lat, lon=df.lng, color=df.total, text=df.index, projection='natural earth').show()"
   ]
  },
  {
   "cell_type": "code",
   "execution_count": null,
   "metadata": {},
   "outputs": [],
   "source": []
  }
 ],
 "metadata": {
  "kernelspec": {
   "display_name": "pyf_dev",
   "language": "python",
   "name": "python3"
  },
  "language_info": {
   "codemirror_mode": {
    "name": "ipython",
    "version": 3
   },
   "file_extension": ".py",
   "mimetype": "text/x-python",
   "name": "python",
   "nbconvert_exporter": "python",
   "pygments_lexer": "ipython3",
   "version": "3.12.3"
  }
 },
 "nbformat": 4,
 "nbformat_minor": 2
}
